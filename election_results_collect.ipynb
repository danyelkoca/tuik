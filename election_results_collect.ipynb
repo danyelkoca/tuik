{
 "cells": [
  {
   "cell_type": "code",
   "execution_count": 19,
   "metadata": {},
   "outputs": [
    {
     "data": {
      "text/plain": [
       "'/Library/Frameworks/Python.framework/Versions/3.10/lib/python3.10/site-packages/chromedriver_autoinstaller/124/chromedriver'"
      ]
     },
     "execution_count": 19,
     "metadata": {},
     "output_type": "execute_result"
    }
   ],
   "source": [
    "from selenium import webdriver\n",
    "import chromedriver_autoinstaller\n",
    "from selenium.webdriver.common.by import By\n",
    "import time\n",
    "\n",
    "chromedriver_autoinstaller.install()"
   ]
  },
  {
   "cell_type": "code",
   "execution_count": 20,
   "metadata": {},
   "outputs": [],
   "source": [
    "driver = webdriver.Chrome()\n",
    "time.sleep(1)"
   ]
  },
  {
   "cell_type": "code",
   "execution_count": 21,
   "metadata": {},
   "outputs": [],
   "source": [
    "driver.get(\"https://biruni.tuik.gov.tr/secimdagitimapp/secim.zul\")\n",
    "time.sleep(1)"
   ]
  },
  {
   "cell_type": "code",
   "execution_count": 22,
   "metadata": {},
   "outputs": [],
   "source": [
    "for span in driver.find_elements(By.CSS_SELECTOR, \".listbox-btable tr\"):\n",
    "    if span.text == \"Seçim çevresi ve ilçelere göre milletvekili genel seçimi sonuçları\":\n",
    "        span.click()\n",
    "        time.sleep(1)\n",
    "        \n",
    "for span in driver.find_elements(By.CSS_SELECTOR, \".listbox-btable tr\"):\n",
    "    if span.text == \"2018\":\n",
    "        span.click()\n",
    "        time.sleep(1)\n",
    "        \n",
    "for span in driver.find_elements(By.CSS_SELECTOR, \".grid-od span\"):\n",
    "    if span.text == \"Mutlak sonuç\":\n",
    "        span.find_element(By.CSS_SELECTOR, \"input\").click()\n",
    "        time.sleep(1)\n",
    "        \n",
    "excel =  driver.find_element(By.CSS_SELECTOR, 'span[title=\"EXCEL\"]').find_element(By.CSS_SELECTOR, 'input').click()\n",
    "time.sleep(1)"
   ]
  },
  {
   "cell_type": "code",
   "execution_count": 23,
   "metadata": {},
   "outputs": [],
   "source": [
    "tables = driver.find_elements(By.CSS_SELECTOR, \".listbox-btable\")\n",
    "\n",
    "for table in tables:\n",
    "    if \"Adana\" in table.text:\n",
    "        cities = table.find_elements(By.CSS_SELECTOR, \"td\")\n",
    "        break\n",
    "\n",
    "city_names = [city.text for city in cities]"
   ]
  },
  {
   "cell_type": "code",
   "execution_count": 24,
   "metadata": {},
   "outputs": [
    {
     "name": "stdout",
     "output_type": "stream",
     "text": [
      "Adana\n",
      "Adıyaman\n",
      "Afyonkarahisar\n",
      "Ağrı\n",
      "Amasya\n",
      "Ankara (1)\n",
      "Ankara (2)\n",
      "Ankara (3)\n",
      "Antalya\n",
      "Artvin\n",
      "Aydın\n",
      "Balıkesir\n",
      "Bilecik\n",
      "Bingöl\n",
      "Bitlis\n",
      "Bolu\n",
      "Burdur\n",
      "Bursa (1)\n",
      "Bursa (2)\n",
      "Çanakkale\n",
      "Çankırı\n",
      "Çorum\n",
      "Denizli\n",
      "Diyarbakır\n",
      "Edirne\n",
      "Elazığ\n",
      "Erzincan\n",
      "Erzurum\n",
      "Eskişehir\n",
      "Gaziantep\n",
      "Giresun\n",
      "Gümüşhane\n",
      "Hakkari\n",
      "Hatay\n",
      "Isparta\n",
      "Mersin\n",
      "İstanbul (1)\n",
      "İstanbul (2)\n",
      "İstanbul (3)\n",
      "İzmir (1)\n",
      "İzmir (2)\n",
      "Kars\n",
      "Kastamonu\n",
      "Kayseri\n",
      "Kırklareli\n",
      "Kırşehir\n",
      "Kocaeli\n",
      "Konya\n",
      "Kütahya\n",
      "Malatya\n",
      "Manisa\n",
      "K.Maraş\n",
      "Mardin\n",
      "Muğla\n",
      "Muş\n",
      "Nevşehir\n",
      "Niğde\n",
      "Ordu\n",
      "Rize\n",
      "Sakarya\n",
      "Samsun\n",
      "Siirt\n",
      "Sinop\n",
      "Sivas\n",
      "Tekirdağ\n",
      "Tokat\n",
      "Trabzon\n",
      "Tunceli\n",
      "Şanlıurfa\n",
      "Uşak\n",
      "Van\n",
      "Yozgat\n",
      "Zonguldak\n",
      "Aksaray\n",
      "Bayburt\n",
      "Karaman\n",
      "Kırıkkale\n",
      "Batman\n",
      "Şırnak\n",
      "Bartın\n",
      "Ardahan\n",
      "Iğdır\n",
      "Yalova\n",
      "Karabük\n",
      "Kilis\n",
      "Osmaniye\n",
      "Düzce\n"
     ]
    }
   ],
   "source": [
    "for city in cities:\n",
    "    city.click()\n",
    "    time.sleep(2)\n",
    "\n",
    "    save =  driver.find_element(By.CSS_SELECTOR, 'input[value=\"Raporu Oluştur\"]').click()\n",
    "    \n",
    "    ## Log, Sleep\n",
    "    print(city.text)\n",
    "    time.sleep(1)"
   ]
  },
  {
   "cell_type": "code",
   "execution_count": null,
   "metadata": {},
   "outputs": [],
   "source": []
  }
 ],
 "metadata": {
  "kernelspec": {
   "display_name": "Python 3",
   "language": "python",
   "name": "python3"
  },
  "language_info": {
   "codemirror_mode": {
    "name": "ipython",
    "version": 3
   },
   "file_extension": ".py",
   "mimetype": "text/x-python",
   "name": "python",
   "nbconvert_exporter": "python",
   "pygments_lexer": "ipython3",
   "version": "3.10.0"
  }
 },
 "nbformat": 4,
 "nbformat_minor": 2
}
