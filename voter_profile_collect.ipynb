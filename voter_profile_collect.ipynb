{
 "cells": [
  {
   "cell_type": "code",
   "execution_count": null,
   "metadata": {},
   "outputs": [],
   "source": [
    "from selenium import webdriver\n",
    "import chromedriver_autoinstaller\n",
    "from selenium.webdriver.common.by import By\n",
    "import time\n",
    "\n",
    "chromedriver_autoinstaller.install()"
   ]
  },
  {
   "cell_type": "code",
   "execution_count": null,
   "metadata": {},
   "outputs": [],
   "source": [
    "driver = webdriver.Chrome()\n",
    "time.sleep(1)"
   ]
  },
  {
   "cell_type": "code",
   "execution_count": null,
   "metadata": {},
   "outputs": [],
   "source": [
    "driver.get(\"https://biruni.tuik.gov.tr/secimdagitimapp/secimsecmen.zul\")\n",
    "time.sleep(1)"
   ]
  },
  {
   "cell_type": "code",
   "execution_count": null,
   "metadata": {},
   "outputs": [],
   "source": [
    "for span in driver.find_elements(By.CSS_SELECTOR, \".grid-od span\"):\n",
    "    if span.text == \"2018\":\n",
    "        span.find_element(By.CSS_SELECTOR, \"input\").click()\n",
    "        time.sleep(1)\n",
    "\n",
    "\n",
    "for span in driver.find_elements(By.CSS_SELECTOR, \".grid-od span\"):\n",
    "    if span.text == \"Yurt içi seçmen\":\n",
    "        span.find_element(By.CSS_SELECTOR, \"input\").click()\n",
    "        time.sleep(1)\n",
    "\n",
    "for span in driver.find_elements(By.CSS_SELECTOR, \".grid-od span\"):\n",
    "    if span.text == \"Yaş grubu\":\n",
    "        span.find_element(By.CSS_SELECTOR, \"input\").click()\n",
    "        time.sleep(1)\n",
    "\n",
    "for span in driver.find_elements(By.CSS_SELECTOR, \".grid .gc span\"):\n",
    "    if span.text == \"İBBS-Düzey4 (İlçe)\":\n",
    "        span.find_element(By.CSS_SELECTOR, \"input\").click()\n",
    "        time.sleep(1)"
   ]
  },
  {
   "cell_type": "code",
   "execution_count": null,
   "metadata": {},
   "outputs": [],
   "source": [
    "tables = driver.find_elements(By.CSS_SELECTOR, \".listbox-btable\")\n",
    "\n",
    "for table in tables:\n",
    "    if \"Adana\" in table.text:\n",
    "        cities = table.find_elements(By.CSS_SELECTOR, \"td\")\n",
    "        break\n",
    "\n",
    "city_names = [city.text for city in cities]"
   ]
  },
  {
   "cell_type": "code",
   "execution_count": null,
   "metadata": {},
   "outputs": [],
   "source": [
    "for city in cities:\n",
    "    city.click()\n",
    "    time.sleep(2)\n",
    "\n",
    "    tables = driver.find_elements(By.CSS_SELECTOR, \".listbox-btable\")\n",
    "\n",
    "    for table in tables:\n",
    "        if \"Tüm İlçeler\" in table.text:\n",
    "            districts = table.find_elements(By.CSS_SELECTOR, \"td\")\n",
    "            break\n",
    "\n",
    "    district_names = [district.text for district in districts]\n",
    "    districts = [district for district in districts if \"Tüm İlçeler\" not in district.text]\n",
    "    \n",
    "    for district in districts:\n",
    "        district.click()\n",
    "        time.sleep(1)\n",
    "    \n",
    "        # Set Excel\n",
    "        excel =  driver.find_element(By.CSS_SELECTOR, 'span[title=\"EXCEL\"]').find_element(By.CSS_SELECTOR, 'input').click()\n",
    "        time.sleep(1)\n",
    "        \n",
    "        ## Save data\n",
    "        save =  driver.find_element(By.CSS_SELECTOR, 'input[value=\"Raporu Oluştur\"]').click()\n",
    "        \n",
    "        ## Log, Sleep\n",
    "        print(city.text, district.text)\n",
    "        time.sleep(1)"
   ]
  }
 ],
 "metadata": {
  "kernelspec": {
   "display_name": "Python 3",
   "language": "python",
   "name": "python3"
  },
  "language_info": {
   "codemirror_mode": {
    "name": "ipython",
    "version": 3
   },
   "file_extension": ".py",
   "mimetype": "text/x-python",
   "name": "python",
   "nbconvert_exporter": "python",
   "pygments_lexer": "ipython3",
   "version": "3.10.0"
  }
 },
 "nbformat": 4,
 "nbformat_minor": 2
}
